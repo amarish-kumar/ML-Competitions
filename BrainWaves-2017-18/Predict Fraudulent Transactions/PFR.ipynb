{
 "cells": [
  {
   "cell_type": "code",
   "execution_count": 2,
   "metadata": {
    "collapsed": true
   },
   "outputs": [],
   "source": [
    "import numpy as np\n",
    "import pandas as pd\n",
    "import matplotlib.pyplot as plt\n",
    "\n",
    "from sklearn.preprocessing import LabelEncoder\n",
    "from sklearn.ensemble import RandomForestClassifier\n",
    "from sklearn.metrics import roc_auc_score\n"
   ]
  },
  {
   "cell_type": "code",
   "execution_count": 3,
   "metadata": {
    "collapsed": true
   },
   "outputs": [],
   "source": [
    "train=pd.read_csv('train.csv')\n",
    "test=pd.read_csv('test.csv')"
   ]
  },
  {
   "cell_type": "code",
   "execution_count": 4,
   "metadata": {},
   "outputs": [],
   "source": [
    "#alldata = pd.concat([train, test]).reset_index(drop=True)"
   ]
  },
  {
   "cell_type": "code",
   "execution_count": 5,
   "metadata": {},
   "outputs": [
    {
     "name": "stdout",
     "output_type": "stream",
     "text": [
      "621\n"
     ]
    },
    {
     "data": {
      "text/plain": [
       "\"code_map=dict()\\nfor i in range(621):\\n    code_map[codes[i]]=i+2\\nfor i in range(1,19):\\n    alldata['cat_var_'+str(i)]=alldata['cat_var_'+str(i)].replace(code_map)\\n    \""
      ]
     },
     "execution_count": 5,
     "metadata": {},
     "output_type": "execute_result"
    }
   ],
   "source": [
    "codes=set()\n",
    "for i in range(1,19):\n",
    "    train['cat_var_'+str(i)] = train['cat_var_'+str(i)].fillna('NaN')\n",
    "    test['cat_var_'+str(i)] = test['cat_var_'+str(i)].fillna('NaN')\n",
    "    a=set(train['cat_var_'+str(i)].unique())\n",
    "    codes|=a\n",
    "print(len(codes))\n",
    "codes=list(codes)\n",
    "'''code_map=dict()\n",
    "for i in range(621):\n",
    "    code_map[codes[i]]=i+2\n",
    "for i in range(1,19):\n",
    "    alldata['cat_var_'+str(i)]=alldata['cat_var_'+str(i)].replace(code_map)\n",
    "    '''"
   ]
  },
  {
   "cell_type": "code",
   "execution_count": 6,
   "metadata": {},
   "outputs": [
    {
     "data": {
      "text/plain": [
       "LabelEncoder()"
      ]
     },
     "execution_count": 6,
     "metadata": {},
     "output_type": "execute_result"
    }
   ],
   "source": [
    "encoder=LabelEncoder()\n",
    "encoder.fit(codes)"
   ]
  },
  {
   "cell_type": "code",
   "execution_count": 7,
   "metadata": {},
   "outputs": [],
   "source": [
    "cols=['cat_var_1', 'cat_var_2','cat_var_3', 'cat_var_4', 'cat_var_5', 'cat_var_6', 'cat_var_7','cat_var_8', 'cat_var_9', 'cat_var_10', 'cat_var_11', 'cat_var_12','cat_var_13', 'cat_var_14', 'cat_var_15', 'cat_var_16', 'cat_var_17','cat_var_18']\n",
    "for i in cols:\n",
    "    train[i]=encoder.transform(train[i])\n",
    "    test[i]=encoder.transform(test[i])"
   ]
  },
  {
   "cell_type": "markdown",
   "metadata": {},
   "source": [
    "# id= test['transaction_id']\n",
    "y = train['target']\n",
    "\n",
    "train = train.drop(['transaction_id', 'target'], axis=1)\n",
    "test = test.drop(['transaction_id'], axis=1)"
   ]
  },
  {
   "cell_type": "markdown",
   "metadata": {},
   "source": [
    "# MODEL"
   ]
  },
  {
   "cell_type": "code",
   "execution_count": 12,
   "metadata": {
    "collapsed": true
   },
   "outputs": [],
   "source": [
    "from sklearn.model_selection import cross_val_predict"
   ]
  },
  {
   "cell_type": "markdown",
   "metadata": {},
   "source": [
    "# 1.Random Classifier"
   ]
  },
  {
   "cell_type": "code",
   "execution_count": 13,
   "metadata": {},
   "outputs": [
    {
     "data": {
      "text/plain": [
       "0.71599279702564222"
      ]
     },
     "execution_count": 13,
     "metadata": {},
     "output_type": "execute_result"
    }
   ],
   "source": [
    "forest_clf=RandomForestClassifier(random_state=1)\n",
    "\n",
    "y_probas_forest = cross_val_predict(forest_clf, train, y, cv=3, method='predict_proba')\n",
    "y_scores_forest = y_probas_forest[:, 1]\n",
    "\n",
    "roc_auc_score(y, y_scores_forest)"
   ]
  },
  {
   "cell_type": "code",
   "execution_count": 14,
   "metadata": {
    "collapsed": true
   },
   "outputs": [],
   "source": [
    "forest_clf.fit(train, y)\n",
    "preds = forest_clf.predict_proba(test)[:,1]"
   ]
  },
  {
   "cell_type": "code",
   "execution_count": 16,
   "metadata": {},
   "outputs": [],
   "source": [
    "sub = pd.DataFrame({'transaction_id': id, 'target': preds})\n",
    "sub = sub[['transaction_id','target']]    \n",
    "\n",
    "filename='sub_pfr.csv'\n",
    "sub.to_csv(filename, index=False)"
   ]
  },
  {
   "cell_type": "markdown",
   "metadata": {},
   "source": [
    "# 2.Extre"
   ]
  },
  {
   "cell_type": "code",
   "execution_count": 18,
   "metadata": {
    "collapsed": true
   },
   "outputs": [],
   "source": [
    "from sklearn.linear_model import LogisticRegression\n",
    "from sklearn.svm import SVC\n",
    "from sklearn.neighbors import KNeighborsClassifier"
   ]
  },
  {
   "cell_type": "code",
   "execution_count": 19,
   "metadata": {},
   "outputs": [
    {
     "data": {
      "text/plain": [
       "0.65191014344970932"
      ]
     },
     "execution_count": 19,
     "metadata": {},
     "output_type": "execute_result"
    }
   ],
   "source": [
    "log_clf=LogisticRegression()\n",
    "\n",
    "y_probas_log = cross_val_predict(log_clf, train, y, cv=3, method='predict_proba')\n",
    "y_scores_log = y_probas_log[:, 1]\n",
    "\n",
    "roc_auc_score(y, y_scores_log)"
   ]
  },
  {
   "cell_type": "code",
   "execution_count": 20,
   "metadata": {
    "collapsed": true
   },
   "outputs": [],
   "source": [
    "log_clf.fit(train,y)\n",
    "pred_log=log_clf.predict_proba(test)[:,1]\n",
    "\n",
    "sub_log = pd.DataFrame({'transaction_id': id, 'target': pred_log})\n",
    "sub_log = sub_log[['transaction_id','target']]    \n",
    "\n",
    "filename='sub_log.csv'\n",
    "sub_log.to_csv(filename, index=False)"
   ]
  },
  {
   "cell_type": "code",
   "execution_count": 22,
   "metadata": {},
   "outputs": [],
   "source": [
    "knn = KNeighborsClassifier(n_neighbors=5)\n",
    "\n",
    "knn.fit(train,y)\n",
    "pred_knn=knn.predict_proba(test)[:,1]\n",
    "\n"
   ]
  },
  {
   "cell_type": "code",
   "execution_count": null,
   "metadata": {
    "collapsed": true
   },
   "outputs": [],
   "source": [
    "sub_knn= pd.DataFrame({'transaction_id': id, 'target': pred_knn})\n",
    "sub_knn = sub_knn[['transaction_id','target']]  \n",
    "sub_knn.to_csv('sub_knn.csv',index=False)"
   ]
  },
  {
   "cell_type": "code",
   "execution_count": null,
   "metadata": {
    "collapsed": true
   },
   "outputs": [],
   "source": [
    "svc = SVC()\n",
    "\n",
    "svc.fit(train,y)\n",
    "pred_svc=svc.predict_proba(test)[:,1]\n",
    "\n"
   ]
  },
  {
   "cell_type": "code",
   "execution_count": null,
   "metadata": {
    "collapsed": true
   },
   "outputs": [],
   "source": [
    "sub_svc= pd.DataFrame({'transaction_id': id, 'target': pred_svc})\n",
    "sub_svc = sub_svc[['transaction_id','target']]  \n",
    "sub_svc.to_csv('sub_svc.csv',index=False)"
   ]
  },
  {
   "cell_type": "code",
   "execution_count": null,
   "metadata": {
    "collapsed": true
   },
   "outputs": [],
   "source": [
    "from sklearn.tree import DecisionTreeClassifier"
   ]
  },
  {
   "cell_type": "code",
   "execution_count": null,
   "metadata": {
    "collapsed": true
   },
   "outputs": [],
   "source": [
    "des=DecisionTreeClassifier()\n",
    "des.fit(train,y)\n",
    "pred_des=predict_proba(test)[:,1]"
   ]
  },
  {
   "cell_type": "code",
   "execution_count": null,
   "metadata": {
    "collapsed": true
   },
   "outputs": [],
   "source": [
    "sub_des=pd.DataFrame({'transaction_id':id,'target':predict_des})\n",
    "sub_des = sub_des[['transaction_id','target']]  \n",
    "sub_des.to_csv('sub_des.csv',index=False)"
   ]
  },
  {
   "cell_type": "code",
   "execution_count": null,
   "metadata": {
    "collapsed": true
   },
   "outputs": [],
   "source": []
  }
 ],
 "metadata": {
  "kernelspec": {
   "display_name": "Python 3",
   "language": "python",
   "name": "python3"
  },
  "language_info": {
   "codemirror_mode": {
    "name": "ipython",
    "version": 3
   },
   "file_extension": ".py",
   "mimetype": "text/x-python",
   "name": "python",
   "nbconvert_exporter": "python",
   "pygments_lexer": "ipython3",
   "version": "3.6.1"
  }
 },
 "nbformat": 4,
 "nbformat_minor": 2
}
